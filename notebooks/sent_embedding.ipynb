{
 "cells": [
  {
   "cell_type": "code",
   "execution_count": 3,
   "metadata": {},
   "outputs": [],
   "source": [
    "from IPython.core.display import HTML\n",
    "import numpy as np\n",
    "import matplotlib.pyplot as plt\n",
    "import re \n",
    "from nltk.tokenize import sent_tokenize\n",
    "from sentence_transformers import SentenceTransformer\n",
    "\n",
    "model = SentenceTransformer('distilbert-base-nli-mean-tokens')\n",
    "\n",
    "def highlight_embedding_sentences(text, model):\n",
    "    # return text\n",
    "    paragraphs = [p for p in text.split('\\n') if p]\n",
    "    sentences = sent_tokenize(text)\n",
    "\n",
    "    highlighted_html = []\n",
    "    sentence_embeddings = []\n",
    "    for _, paragraph in enumerate(paragraphs):\n",
    "        sentences = sent_tokenize(paragraph)\n",
    "        for _, sentence in enumerate(sentences):\n",
    "            # Extract the embedding\n",
    "            sentence_embedding = model.encode(sentence)\n",
    "            sentence_embeddings.append(sentence_embedding)\n",
    "\n",
    "    sentence_embeddings = np.array(sentence_embeddings)\n",
    "    sentence_embeddings -= sentence_embeddings.min()\n",
    "    sentence_embeddings /= sentence_embeddings.max()\n",
    "    # minval = min([sentence_embedding.min() for sentence_embedding in sentence_embeddings])\n",
    "    # maxval = max([sentence_embedding.max() for sentence_embedding in sentence_embeddings])\n",
    "    # sentence_embeddings = [sentence_embedding-minval for sentence_embedding in sentence_embeddings]\n",
    "    # sentence_embeddings = [sentence_embedding/maxval for sentence_embedding in sentence_embeddings]\n",
    "    # sentence_embeddings = [np.exp(sentence_embedding) for sentence_embedding in sentence_embeddings]\n",
    "    # minval = min([sentence_embedding.min() for sentence_embedding in sentence_embeddings])\n",
    "    # maxval = max([sentence_embedding.max() for sentence_embedding in sentence_embeddings])\n",
    "    # sentence_embeddings = [sentence_embedding-minval for sentence_embedding in sentence_embeddings]\n",
    "    # sentence_embeddings = [sentence_embedding/maxval for sentence_embedding in sentence_embeddings]\n",
    "\n",
    "    empty = f'#{int(255):02x}{int(255):02x}{int(255):02x}'\n",
    "    for _, paragraph in enumerate(paragraphs):\n",
    "        sentences = sent_tokenize(paragraph)\n",
    "        for s, sentence in enumerate(sentences):\n",
    "            characters = re.findall(r'(?s)(.)', sentence)\n",
    "            sentence_embedding = sentence_embeddings[s]\n",
    "            sentence_embedding = np.resize(sentence_embeddings[s], 32)\n",
    "            sentence_embedding_resized = np.resize(\n",
    "                sentence_embedding, len(characters))\n",
    "\n",
    "            # characters = \"\".join([token.text for token in sentence.tokens])\n",
    "            for idx, character in enumerate(characters):\n",
    "                color = plt.cm.jet(sentence_embedding_resized[idx])\n",
    "                color = f'#{int(color[0]*255):02x}{int(color[1]*255):02x}{int(color[2]*255):02x}'\n",
    "                highlighted_html.append(\n",
    "                    f'<mark style=\"background-color: {color}\">{character}</mark>')\n",
    "            highlighted_html.append(\n",
    "                f'<mark style=\"background-color: {empty}\">{\" \"}</mark>')\n",
    "        highlighted_html.append(f'<br>')\n",
    "        highlighted_html.append(f'<br>')\n",
    "    return \"\".join(highlighted_html)\n"
   ]
  },
  {
   "cell_type": "code",
   "execution_count": 6,
   "metadata": {},
   "outputs": [
    {
     "data": {
      "text/html": [
       "<mark style=\"background-color: #00ccff\">T</mark><mark style=\"background-color: #00a8ff\">h</mark><mark style=\"background-color: #56ffa0\">e</mark><mark style=\"background-color: #4cffaa\"> </mark><mark style=\"background-color: #36ffc0\">q</mark><mark style=\"background-color: #9aff5c\">u</mark><mark style=\"background-color: #005cff\">i</mark><mark style=\"background-color: #42ffb3\">c</mark><mark style=\"background-color: #b0ff46\">k</mark><mark style=\"background-color: #ff6f00\"> </mark><mark style=\"background-color: #ffcf00\">b</mark><mark style=\"background-color: #cdff29\">r</mark><mark style=\"background-color: #49ffad\">o</mark><mark style=\"background-color: #70ff86\">w</mark><mark style=\"background-color: #76ff80\">n</mark><mark style=\"background-color: #0000de\"> </mark><mark style=\"background-color: #ff2500\">f</mark><mark style=\"background-color: #56ffa0\">o</mark><mark style=\"background-color: #93ff63\">x</mark><mark style=\"background-color: #80ff76\"> </mark><mark style=\"background-color: #00acff\">j</mark><mark style=\"background-color: #73ff83\">u</mark><mark style=\"background-color: #0094ff\">m</mark><mark style=\"background-color: #ffae00\">p</mark><mark style=\"background-color: #00b0ff\">s</mark><mark style=\"background-color: #faf000\"> </mark><mark style=\"background-color: #93ff63\">o</mark><mark style=\"background-color: #adff49\">v</mark><mark style=\"background-color: #36ffc0\">e</mark><mark style=\"background-color: #90ff66\">r</mark><mark style=\"background-color: #69ff8d\"> </mark><mark style=\"background-color: #6cff89\">t</mark><mark style=\"background-color: #00ccff\">h</mark><mark style=\"background-color: #00a8ff\">e</mark><mark style=\"background-color: #56ffa0\"> </mark><mark style=\"background-color: #4cffaa\">l</mark><mark style=\"background-color: #36ffc0\">a</mark><mark style=\"background-color: #9aff5c\">z</mark><mark style=\"background-color: #005cff\">y</mark><mark style=\"background-color: #42ffb3\"> </mark><mark style=\"background-color: #b0ff46\">d</mark><mark style=\"background-color: #ff6f00\">o</mark><mark style=\"background-color: #ffcf00\">g</mark><mark style=\"background-color: #cdff29\">.</mark><mark style=\"background-color: #ffffff\"> </mark><br><br><mark style=\"background-color: #5cff9a\">T</mark><mark style=\"background-color: #36ffc0\">h</mark><mark style=\"background-color: #caff2c\">e</mark><mark style=\"background-color: #79ff7d\"> </mark><mark style=\"background-color: #36ffc0\">c</mark><mark style=\"background-color: #a0ff56\">a</mark><mark style=\"background-color: #c3ff32\">t</mark><mark style=\"background-color: #f4f802\"> </mark><mark style=\"background-color: #79ff7d\">i</mark><mark style=\"background-color: #b3ff42\">n</mark><mark style=\"background-color: #ffe500\"> </mark><mark style=\"background-color: #eaff0c\">t</mark><mark style=\"background-color: #00c8ff\">h</mark><mark style=\"background-color: #edff08\">e</mark><mark style=\"background-color: #baff3c\"> </mark><mark style=\"background-color: #32ffc3\">h</mark><mark style=\"background-color: #ffe900\">a</mark><mark style=\"background-color: #ffb100\">t</mark><mark style=\"background-color: #80ff76\"> </mark><mark style=\"background-color: #daff1c\">w</mark><mark style=\"background-color: #ffc000\">e</mark><mark style=\"background-color: #ffc800\">a</mark><mark style=\"background-color: #a0ff56\">r</mark><mark style=\"background-color: #ffd300\">s</mark><mark style=\"background-color: #79ff7d\"> </mark><mark style=\"background-color: #46ffb0\">a</mark><mark style=\"background-color: #ffc000\"> </mark><mark style=\"background-color: #49ffad\">r</mark><mark style=\"background-color: #ffe900\">e</mark><mark style=\"background-color: #ffe500\">d</mark><mark style=\"background-color: #daff1c\"> </mark><mark style=\"background-color: #8dff69\">a</mark><mark style=\"background-color: #5cff9a\">n</mark><mark style=\"background-color: #36ffc0\">d</mark><mark style=\"background-color: #caff2c\"> </mark><mark style=\"background-color: #79ff7d\">w</mark><mark style=\"background-color: #36ffc0\">h</mark><mark style=\"background-color: #a0ff56\">i</mark><mark style=\"background-color: #c3ff32\">t</mark><mark style=\"background-color: #f4f802\">e</mark><mark style=\"background-color: #79ff7d\"> </mark><mark style=\"background-color: #b3ff42\">s</mark><mark style=\"background-color: #ffe500\">t</mark><mark style=\"background-color: #eaff0c\">r</mark><mark style=\"background-color: #00c8ff\">i</mark><mark style=\"background-color: #edff08\">p</mark><mark style=\"background-color: #baff3c\">e</mark><mark style=\"background-color: #32ffc3\">d</mark><mark style=\"background-color: #ffe900\"> </mark><mark style=\"background-color: #ffb100\">h</mark><mark style=\"background-color: #80ff76\">a</mark><mark style=\"background-color: #daff1c\">t</mark><mark style=\"background-color: #ffc000\">.</mark><mark style=\"background-color: #ffffff\"> </mark><br><br>"
      ],
      "text/plain": [
       "<IPython.core.display.HTML object>"
      ]
     },
     "metadata": {},
     "output_type": "display_data"
    }
   ],
   "source": [
    "# Generate a random text string\n",
    "sentences = [\n",
    "    \"The quick brown fox jumps over the lazy dog.\", \n",
    "    \"The cat in the hat wears a red and white striped hat.\"\n",
    "]\n",
    "html = \"\".join([highlight_embedding_sentences(sentence, model) for sentence in sentences])\n",
    "display(HTML(html))"
   ]
  },
  {
   "cell_type": "code",
   "execution_count": null,
   "metadata": {},
   "outputs": [],
   "source": []
  }
 ],
 "metadata": {
  "kernelspec": {
   "display_name": "textkit",
   "language": "python",
   "name": "python3"
  },
  "language_info": {
   "codemirror_mode": {
    "name": "ipython",
    "version": 3
   },
   "file_extension": ".py",
   "mimetype": "text/x-python",
   "name": "python",
   "nbconvert_exporter": "python",
   "pygments_lexer": "ipython3",
   "version": "3.9.16"
  },
  "orig_nbformat": 4
 },
 "nbformat": 4,
 "nbformat_minor": 2
}
